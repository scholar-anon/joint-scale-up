{
 "cells": [
  {
   "cell_type": "markdown",
   "metadata": {},
   "source": [
    "# Network Size Estimation with Degree Bias Correction - Results Viewer\n",
    "\n",
    "This notebook provides an interactive way to explore the results of our network size estimation study. It includes pre-computed results for all schools in the Facebook100 dataset, with various estimation methods compared.\n",
    "\n",
    "## Setup\n",
    "\n",
    "First, let's clone the repository and install dependencies:\n"
   ]
  },
  {
   "cell_type": "code",
   "execution_count": null,
   "metadata": {},
   "outputs": [],
   "source": [
    "!git clone https://github.com/scholar-anon/joint-scale-up.git\n",
    "!cd joint-scale-up && pip install -r requirements.txt"
   ]
  },
  {
   "cell_type": "markdown",
   "metadata": {},
   "source": [
    "## Import Required Libraries"
   ]
  },
  {
   "cell_type": "code",
   "execution_count": null,
   "metadata": {},
   "outputs": [],
   "source": [
    "import sys\n",
    "sys.path.append('joint-scale-up')\n",
    "from common import *\n",
    "from load_data import load_school"
   ]
  },
  {
   "cell_type": "markdown",
   "metadata": {},
   "source": [
    "## Interactive Results Viewer"
   ]
  },
  {
   "cell_type": "code",
   "execution_count": null,
   "metadata": {},
   "outputs": [],
   "source": [
    "def plot_school_results(school_name):\n",
    "    if school_name in results:\n",
    "        school_data = results[school_name]\n",
    "        \n",
    "        # Create figure with two subplots\n",
    "        fig, (ax1, ax2) = plt.subplots(1, 2, figsize=(15, 5))\n",
    "        \n",
    "        # Plot 1: Boxplot of estimates\n",
    "        estimates = pd.DataFrame(school_data)\n",
    "        sns.boxplot(data=estimates, y='method', x='estimate', ax=ax1)\n",
    "        ax1.set_title(f'Estimates for {school_name}')\n",
    "        ax1.set_xlabel('Estimated Size')\n",
    "        \n",
    "        # Plot 2: Error distribution\n",
    "        sns.boxplot(data=estimates, y='method', x='relative_error', ax=ax2)\n",
    "        ax2.set_title(f'Relative Error for {school_name}')\n",
    "        ax2.set_xlabel('Relative Error')\n",
    "        \n",
    "        plt.tight_layout()\n",
    "        plt.show()\n",
    "    else:\n",
    "        print(f\"No results found for {school_name}\")\n",
    "\n",
    "from ipywidgets import interact, widgets\n",
    "\n",
    "school_names = sorted(list(results.keys()))\n",
    "interact(plot_school_results, school_name=school_names)"
   ]
  }
 ],
 "metadata": {
  "language_info": {
   "name": "python"
  }
 },
 "nbformat": 4,
 "nbformat_minor": 2
}
