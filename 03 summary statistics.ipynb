{
 "cells": [
  {
   "cell_type": "code",
   "execution_count": 41,
   "metadata": {},
   "outputs": [],
   "source": [
    "from load_data import load_all_results, school_names\n",
    "import pandas as pd\n",
    "from matplotlib import pyplot as plt\n",
    "import numpy as np"
   ]
  },
  {
   "cell_type": "code",
   "execution_count": 42,
   "metadata": {},
   "outputs": [
    {
     "name": "stdout",
     "output_type": "stream",
     "text": [
      "0         0.935772\n",
      "1         0.935772\n",
      "2         0.935772\n",
      "3         0.935772\n",
      "4         0.935772\n",
      "            ...   \n",
      "191095    0.930477\n",
      "191096    0.930477\n",
      "191097    0.930477\n",
      "191098    0.930477\n",
      "191099    0.930477\n",
      "Length: 191100, dtype: float64\n"
     ]
    }
   ],
   "source": [
    "results_df = load_all_results()\n",
    "\n",
    "# we need to go through and find the number of freshmen known by upperclassmen in each school\n",
    "from load_data import load_school\n",
    "true_updated = {}\n",
    "for s in school_names:\n",
    "    A, df = load_school(s)\n",
    "    freshmen = df[df.year == 2009].index\n",
    "    upperclassmen = df[(df.year >= 2006) & (df.year <= 2008)].index\n",
    "\n",
    "    has_upperclassman_friend = A[freshmen, :][:, upperclassmen].sum(axis=1) > 0\n",
    "    true_updated[s] = int(has_upperclassman_friend.sum())\n",
    "\n",
    "true_updated = results_df['school'].map(lambda x: true_updated.get(x, x))\n",
    "print(true_updated / results_df.true)\n",
    "\n",
    "# replace these in df_all\n",
    "results_df['true_old'] = results_df['true']\n",
    "results_df['true'] = true_updated"
   ]
  },
  {
   "cell_type": "code",
   "execution_count": 43,
   "metadata": {},
   "outputs": [],
   "source": [
    "df_all = results_df"
   ]
  },
  {
   "cell_type": "code",
   "execution_count": 44,
   "metadata": {},
   "outputs": [],
   "source": [
    "df = df_all[df_all.type == 'upperclassmen']"
   ]
  },
  {
   "cell_type": "code",
   "execution_count": 45,
   "metadata": {},
   "outputs": [
    {
     "data": {
      "text/html": [
       "<div>\n",
       "<style scoped>\n",
       "    .dataframe tbody tr th:only-of-type {\n",
       "        vertical-align: middle;\n",
       "    }\n",
       "\n",
       "    .dataframe tbody tr th {\n",
       "        vertical-align: top;\n",
       "    }\n",
       "\n",
       "    .dataframe thead th {\n",
       "        text-align: right;\n",
       "    }\n",
       "</style>\n",
       "<table border=\"1\" class=\"dataframe\">\n",
       "  <thead>\n",
       "    <tr style=\"text-align: right;\">\n",
       "      <th></th>\n",
       "      <th>measure</th>\n",
       "      <th>grade</th>\n",
       "      <th>value</th>\n",
       "      <th>true</th>\n",
       "      <th>type</th>\n",
       "      <th>school</th>\n",
       "      <th>year</th>\n",
       "      <th>true_old</th>\n",
       "    </tr>\n",
       "  </thead>\n",
       "  <tbody>\n",
       "    <tr>\n",
       "      <th>1050</th>\n",
       "      <td>joint-mention</td>\n",
       "      <td>1</td>\n",
       "      <td>1040.276889</td>\n",
       "      <td>1049</td>\n",
       "      <td>upperclassmen</td>\n",
       "      <td>American75</td>\n",
       "      <td>NaN</td>\n",
       "      <td>1121</td>\n",
       "    </tr>\n",
       "    <tr>\n",
       "      <th>1051</th>\n",
       "      <td>chao 1987</td>\n",
       "      <td>1</td>\n",
       "      <td>141.444444</td>\n",
       "      <td>1049</td>\n",
       "      <td>upperclassmen</td>\n",
       "      <td>American75</td>\n",
       "      <td>NaN</td>\n",
       "      <td>1121</td>\n",
       "    </tr>\n",
       "    <tr>\n",
       "      <th>1052</th>\n",
       "      <td>PIMLE</td>\n",
       "      <td>1</td>\n",
       "      <td>357.100844</td>\n",
       "      <td>1049</td>\n",
       "      <td>upperclassmen</td>\n",
       "      <td>American75</td>\n",
       "      <td>NaN</td>\n",
       "      <td>1121</td>\n",
       "    </tr>\n",
       "    <tr>\n",
       "      <th>1053</th>\n",
       "      <td>MLE</td>\n",
       "      <td>1</td>\n",
       "      <td>160.859360</td>\n",
       "      <td>1049</td>\n",
       "      <td>upperclassmen</td>\n",
       "      <td>American75</td>\n",
       "      <td>NaN</td>\n",
       "      <td>1121</td>\n",
       "    </tr>\n",
       "    <tr>\n",
       "      <th>1054</th>\n",
       "      <td>dombrowski</td>\n",
       "      <td>1</td>\n",
       "      <td>NaN</td>\n",
       "      <td>1049</td>\n",
       "      <td>upperclassmen</td>\n",
       "      <td>American75</td>\n",
       "      <td>NaN</td>\n",
       "      <td>1121</td>\n",
       "    </tr>\n",
       "  </tbody>\n",
       "</table>\n",
       "</div>"
      ],
      "text/plain": [
       "            measure  grade        value  true           type      school  \\\n",
       "1050  joint-mention      1  1040.276889  1049  upperclassmen  American75   \n",
       "1051      chao 1987      1   141.444444  1049  upperclassmen  American75   \n",
       "1052          PIMLE      1   357.100844  1049  upperclassmen  American75   \n",
       "1053            MLE      1   160.859360  1049  upperclassmen  American75   \n",
       "1054     dombrowski      1          NaN  1049  upperclassmen  American75   \n",
       "\n",
       "      year  true_old  \n",
       "1050   NaN      1121  \n",
       "1051   NaN      1121  \n",
       "1052   NaN      1121  \n",
       "1053   NaN      1121  \n",
       "1054   NaN      1121  "
      ]
     },
     "execution_count": 45,
     "metadata": {},
     "output_type": "execute_result"
    }
   ],
   "source": [
    "df.head()"
   ]
  },
  {
   "cell_type": "code",
   "execution_count": 46,
   "metadata": {},
   "outputs": [
    {
     "name": "stderr",
     "output_type": "stream",
     "text": [
      "c:\\envs\\data\\Lib\\site-packages\\numpy\\lib\\_function_base_impl.py:4620: RuntimeWarning: invalid value encountered in subtract\n",
      "  diff_b_a = subtract(b, a)\n",
      "c:\\envs\\data\\Lib\\site-packages\\numpy\\lib\\_function_base_impl.py:4620: RuntimeWarning: invalid value encountered in subtract\n",
      "  diff_b_a = subtract(b, a)\n",
      "c:\\envs\\data\\Lib\\site-packages\\pandas\\core\\arraylike.py:399: RuntimeWarning: divide by zero encountered in log\n",
      "  result = getattr(ufunc, method)(*inputs, **kwargs)\n",
      "c:\\envs\\data\\Lib\\site-packages\\pandas\\core\\arraylike.py:399: RuntimeWarning: divide by zero encountered in log\n",
      "  result = getattr(ufunc, method)(*inputs, **kwargs)\n",
      "c:\\envs\\data\\Lib\\site-packages\\numpy\\lib\\_function_base_impl.py:4620: RuntimeWarning: invalid value encountered in subtract\n",
      "  diff_b_a = subtract(b, a)\n",
      "c:\\envs\\data\\Lib\\site-packages\\pandas\\core\\arraylike.py:399: RuntimeWarning: divide by zero encountered in log\n",
      "  result = getattr(ufunc, method)(*inputs, **kwargs)\n",
      "c:\\envs\\data\\Lib\\site-packages\\numpy\\lib\\_function_base_impl.py:4620: RuntimeWarning: invalid value encountered in subtract\n",
      "  diff_b_a = subtract(b, a)\n"
     ]
    }
   ],
   "source": [
    "# confidence intervals (5% and 95%)\n",
    "M = df.groupby('measure')[['value', 'true']].apply(lambda x: (x.value / x.true).mean())\n",
    "ci_5 = df.groupby('measure')[['value', 'true']].apply(lambda x: (x.value / x.true).quantile(0.05))\n",
    "ci_95 = df.groupby('measure')[['value', 'true']].apply(lambda x: (x.value / x.true).quantile(0.95))\n",
    "\n",
    "# create a metric that flips the way we measure...\n",
    "# \"min-normalized error\"\n",
    "symmetrize_above = True\n",
    "def m_norm(x):\n",
    "    y = x.value / x.true\n",
    "    ixG = y > 1\n",
    "    ixL = y < 1\n",
    "\n",
    "    if symmetrize_above:\n",
    "      y[ixG] = y[ixG] - 1\n",
    "      y[ixL] = 1/y[ixL] - 1\n",
    "    else: \n",
    "      y[ixG] = 1 - 1/y[ixG]\n",
    "      y[ixL] = 1 - y[ixL]\n",
    "    return y\n",
    "\n",
    "Mabs = df.groupby('measure')[['value', 'true']].apply(lambda x: m_norm(x).mean())\n",
    "ci_5abs = df.groupby('measure')[['value', 'true']].apply(lambda x: m_norm(x).quantile(0.05))\n",
    "ci_95abs = df.groupby('measure')[['value', 'true']].apply(lambda x: m_norm(x).quantile(0.95))\n",
    "\n",
    "# experimental log scale\n",
    "Mlog = df.groupby('measure')[['value', 'true']].apply(lambda x: np.exp(np.abs(np.log(x.value / x.true)).mean()) - 1)\n",
    "ci_5log = df.groupby('measure')[['value', 'true']].apply(lambda x: np.exp(np.abs(np.log(x.value / x.true).quantile(0.95))) - 1)\n",
    "ci_95log = df.groupby('measure')[['value', 'true']].apply(lambda x: np.exp(np.abs(np.log(x.value / x.true).quantile(0.05))) - 1)"
   ]
  },
  {
   "cell_type": "code",
   "execution_count": 47,
   "metadata": {},
   "outputs": [
    {
     "name": "stdout",
     "output_type": "stream",
     "text": [
      "1.2%\n",
      "1.0%\n",
      "1.0%\n",
      "0.6%\n"
     ]
    }
   ],
   "source": [
    "# Finally, we see that  Lanumteang et al.’s (2011) lower bound does substantially better than Scale-Up, but worse than Joint-Referral. This estimate of the lower bound can also wildly overestimate the true value in rare cases.\n",
    "\n",
    "#what quantile of the lower bound is greater than 2x the true value? 4x?\n",
    "L = df[df.measure == 'lanumteang 2011']\n",
    "N_2x = sum(L.value > 2 * L.true)\n",
    "N_4x = sum(L.value > 4 * L.true)\n",
    "N_5x = sum(L.value > 5 * L.true)\n",
    "N_8x = sum(L.value > 8 * L.true)\n",
    "N_tot = len(L)\n",
    "\n",
    "print(f\"{N_2x / N_tot:.1%}\")\n",
    "print(f\"{N_4x / N_tot:.1%}\")\n",
    "print(f\"{N_5x / N_tot:.1%}\")\n",
    "print(f\"{N_8x / N_tot:.1%}\")"
   ]
  },
  {
   "cell_type": "code",
   "execution_count": 48,
   "metadata": {},
   "outputs": [
    {
     "data": {
      "text/markdown": [
       "Freshmen in these 100 schools have just 12.3% the number of Facebook friendships to upperclassmen, on average, as do upperclassmen. So, it should not be surprising that Scale-Up significantly underestimates the number of freshmen known by upperclassmen. Estimates from the Scale-Up method were on average just 12.9% of the true population size, with the middle 90% of estimates ranging from 5.5% to 27.7%. This is because network scale-up relies on visibility, and underrepresented groups like freshmen appear less frequently in ego networks.\n",
       "\n",
       "By contrast, the joint-referral method developed in this paper gives a much more accurate estimate: on average 66.5% of the true population size, with the middle 90% of estimates ranging from 29.3% to 108.0%. Instead of relying on average visibility like Scale-Up, joint-referral depends on the parameter $C = 1 + V/M^2$ being similar between groups. For freshmen, C is on average 58% that of upperclassman groups. Crucially, C varies much less than M when comparing freshmen to upperclassmen in these schools, making the joint-referral approach more stable and less biased.\n",
       "\n",
       "Lanumteang et al.’s (2011) lower bound method also performs better than Scale-Up, with an average estimate of 34.9% of the true population size and a middle 90% range from 6.4% to 77.6%. However, this method can still produce extreme overestimates: in 1.2% of cases the estimate was more than twice the true value, in 1.0% it was more than four times too large, and in 1.0% of schools, the estimate exceeded five times the true size. Rare but severe overestimation is a known limitation of this lower bound approach."
      ],
      "text/plain": [
       "<IPython.core.display.Markdown object>"
      ]
     },
     "metadata": {},
     "output_type": "display_data"
    }
   ],
   "source": [
    "from IPython.display import Markdown, display\n",
    "\n",
    "display(Markdown(\n",
    "    f\"Freshmen in these 100 schools have just 12.3% the number of Facebook friendships to upperclassmen, on average, as do upperclassmen. \"\n",
    "    f\"So, it should not be surprising that Scale-Up significantly underestimates the number of freshmen known by upperclassmen. \"\n",
    "    f\"Estimates from the Scale-Up method were on average just {M['MLE']:0.1%} of the true population size, \"\n",
    "    f\"with the middle 90% of estimates ranging from {ci_5['MLE']:0.1%} to {ci_95['MLE']:0.1%}. \"\n",
    "    f\"This is because network scale-up relies on visibility, and underrepresented groups like freshmen appear less frequently in ego networks.\\n\\n\"\n",
    "    \n",
    "    f\"By contrast, the joint-referral method developed in this paper gives a much more accurate estimate: on average {M['joint-mention']:0.1%} of the true population size, \"\n",
    "    f\"with the middle 90% of estimates ranging from {ci_5['joint-mention']:0.1%} to {ci_95['joint-mention']:0.1%}. \"\n",
    "    f\"Instead of relying on average visibility like Scale-Up, joint-referral depends on the parameter \"\n",
    "    f\"$C = 1 + V/M^2$ being similar between groups. For freshmen, C is on average 58% that of upperclassman groups. \"\n",
    "    f\"Crucially, C varies much less than M when comparing freshmen to upperclassmen in these schools, making the joint-referral approach more stable and less biased.\\n\\n\"\n",
    "    \n",
    "    f\"Lanumteang et al.’s (2011) lower bound method also performs better than Scale-Up, with an average estimate of {M['lanumteang 2011']:0.1%} of the true population size \"\n",
    "    f\"and a middle 90% range from {ci_5['lanumteang 2011']:0.1%} to {ci_95['lanumteang 2011']:0.1%}. \"\n",
    "    f\"However, this method can still produce extreme overestimates: in {N_2x / N_tot:.1%} of cases the estimate was more than twice the true value, \"\n",
    "    f\"in {N_4x / N_tot:.1%} it was more than four times too large, and in {N_5x / N_tot:.1%} of schools, the estimate exceeded five times the true size. \"\n",
    "    f\"Rare but severe overestimation is a known limitation of this lower bound approach.\"\n",
    "))\n"
   ]
  },
  {
   "cell_type": "code",
   "execution_count": null,
   "metadata": {},
   "outputs": [
    {
     "data": {
      "text/markdown": [
       "Figure 1 shows that in this situation, the joint-referral estimates were generally much better than the other estimates. The interquartile range of estimates from Joint-Referrals went from 49% to 82% of the true scores. The interquartile range for Scale-Up estimates went from 8% to 15% of the true values. The interquartile range for the lower bounds went from 10% to 31% of the true values."
      ],
      "text/plain": [
       "<IPython.core.display.Markdown object>"
      ]
     },
     "metadata": {},
     "output_type": "display_data"
    }
   ],
   "source": [
    "iqr = df.groupby('measure')[['value', 'true']].apply(lambda x: ((x.value / x.true).quantile(0.25), (x.value / x.true).quantile(0.75)))\n",
    "display(Markdown(\n",
    "    f\"Figure 1 shows that in this situation, the joint-referral estimates were generally much better than the other estimates. \"\n",
    "    f\"The interquartile range of estimates from Joint-Referrals went from {iqr['joint-mention'][0]:0.0%} to {iqr['joint-mention'][1]:0.0%} of the true scores. \"\n",
    "    f\"The interquartile range for Scale-Up estimates went from {iqr['MLE'][0]:0.0%} to {iqr['MLE'][1]:0.0%} of the true values. \"\n",
    "    f\"The interquartile range for the lower bounds went from {iqr['lanumteang 2011'][0]:0.0%} to {iqr['lanumteang 2011'][1]:0.0%} of the true values.\"\n",
    "))"
   ]
  },
  {
   "cell_type": "code",
   "execution_count": 9,
   "metadata": {},
   "outputs": [
    {
     "data": {
      "text/markdown": [
       "### Comparison of Estimation Methods\n",
       "| Method                        | Mean Symmetric Relative Error | Middle 90% Range           |\n",
       "|------------------------------|-------------------------------:|----------------------------|\n",
       "| Joint-Referral (this paper)  | 87.6%      | 4.4% - 241.7% |\n",
       "| Scale-Up (Killworth et al. 1998)  | 882.2%                | 261.5% - 1705.2% |\n",
       "| Lower Bound (Lanumteang et al., 2011) | 613.6%      | 43.6% - 1475.5% |"
      ],
      "text/plain": [
       "<IPython.core.display.Markdown object>"
      ]
     },
     "metadata": {},
     "output_type": "display_data"
    }
   ],
   "source": [
    "from IPython.display import Markdown, display\n",
    "\n",
    "display(Markdown(\n",
    "    f\"### Comparison of Estimation Methods\\n\"\n",
    "    f\"| Method                        | Mean Symmetric Relative Error | Middle 90% Range           |\\n\"\n",
    "    f\"|------------------------------|-------------------------------:|----------------------------|\\n\"\n",
    "    f\"| Joint-Referral (this paper)  | {Mabs['joint-mention']:0.1%}      | {ci_5abs['joint-mention']:0.1%} - {ci_95abs['joint-mention']:0.1%} |\\n\"\n",
    "    f\"| Scale-Up (Killworth et al. 1998)  | {Mabs['MLE']:0.1%}                | {ci_5abs['MLE']:0.1%} - {ci_95abs['MLE']:0.1%} |\\n\"\n",
    "    f\"| Lower Bound (Lanumteang et al., 2011) | {Mabs['lanumteang 2011']:0.1%}      | {ci_5abs['lanumteang 2011']:0.1%} - {ci_95abs['lanumteang 2011']:0.1%} |\"\n",
    "))\n"
   ]
  },
  {
   "cell_type": "code",
   "execution_count": 10,
   "metadata": {},
   "outputs": [
    {
     "data": {
      "text/markdown": [
       "### Comparison of Estimation Methods\n",
       "| Method                        | Mean Symmetric Relative Error | Middle 90% Range           |\n",
       "|------------------------------|-------------------------------:|----------------------------|\n",
       "| Joint-Referral (this paper)  | 66.9%      | 8.0% - 241.7% |\n",
       "| Scale-Up (Killworth et al. 1998)  | 779.1%                | 261.5% - 1705.2% |\n",
       "| Lower Bound (Lanumteang et al., 2011) | 460.9%      | 28.9% - 1470.5% |"
      ],
      "text/plain": [
       "<IPython.core.display.Markdown object>"
      ]
     },
     "metadata": {},
     "output_type": "display_data"
    }
   ],
   "source": [
    "from IPython.display import Markdown, display\n",
    "\n",
    "display(Markdown(\n",
    "    f\"### Comparison of Estimation Methods\\n\"\n",
    "    f\"| Method                        | Mean Symmetric Relative Error | Middle 90% Range           |\\n\"\n",
    "    f\"|------------------------------|-------------------------------:|----------------------------|\\n\"\n",
    "    f\"| Joint-Referral (this paper)  | {Mlog['joint-mention']:0.1%}      | {ci_5log['joint-mention']:0.1%} - {ci_95log['joint-mention']:0.1%} |\\n\"\n",
    "    f\"| Scale-Up (Killworth et al. 1998)  | {Mlog['MLE']:0.1%}                | {ci_5log['MLE']:0.1%} - {ci_95log['MLE']:0.1%} |\\n\"\n",
    "    f\"| Lower Bound (Lanumteang et al., 2011) | {Mlog['lanumteang 2011']:0.1%}      | {ci_5log['lanumteang 2011']:0.1%} - {ci_95log['lanumteang 2011']:0.1%} |\"\n",
    "))\n"
   ]
  },
  {
   "cell_type": "markdown",
   "metadata": {},
   "source": [
    "# what about Crat across schools?"
   ]
  },
  {
   "cell_type": "code",
   "execution_count": 11,
   "metadata": {},
   "outputs": [],
   "source": [
    "def compute_c(d):\n",
    "    d = d[d > 0]\n",
    "    M = d.mean()\n",
    "    V = d.var()\n",
    "    C = 1 + V/M**2\n",
    "    return C\n",
    "\n",
    "crats = {}\n",
    "mdegs = {}\n",
    "for s in school_names:\n",
    "    A, df = load_school(s)\n",
    "    freshmen = df[df.year == 2009].index\n",
    "    upperclassmen = df[(df.year >= 2006) & (df.year <= 2008)].index\n",
    "\n",
    "    df = df[df['student/faculty'] == 1]\n",
    "\n",
    "    # get degree distributions for freshmen and for each year upperclassman\n",
    "    freshmen = df[df.year == 2009].index\n",
    "\n",
    "    d = A[freshmen, :][:, upperclassmen].sum(axis=1)\n",
    "    fC = compute_c(d)\n",
    "    mdegs[s, 2009] = d[d>0].mean()\n",
    "\n",
    "    years = [2006, 2007, 2008]\n",
    "    \n",
    "    for y in years:\n",
    "        ix = df[df.year == y].index\n",
    "        d = A[ix, :][:, upperclassmen].sum(axis=1)\n",
    "        assert d.shape[0] == len(ix)\n",
    "        \n",
    "        Crat = compute_c(d) / fC\n",
    "\n",
    "        crats[s, y] = Crat\n",
    "        mdegs[s, y] = d[d>0].mean()\n"
   ]
  },
  {
   "cell_type": "code",
   "execution_count": 12,
   "metadata": {},
   "outputs": [
    {
     "data": {
      "text/html": [
       "<div>\n",
       "<style scoped>\n",
       "    .dataframe tbody tr th:only-of-type {\n",
       "        vertical-align: middle;\n",
       "    }\n",
       "\n",
       "    .dataframe tbody tr th {\n",
       "        vertical-align: top;\n",
       "    }\n",
       "\n",
       "    .dataframe thead th {\n",
       "        text-align: right;\n",
       "    }\n",
       "</style>\n",
       "<table border=\"1\" class=\"dataframe\">\n",
       "  <thead>\n",
       "    <tr style=\"text-align: right;\">\n",
       "      <th></th>\n",
       "      <th>0</th>\n",
       "    </tr>\n",
       "  </thead>\n",
       "  <tbody>\n",
       "    <tr>\n",
       "      <th>count</th>\n",
       "      <td>300.000000</td>\n",
       "    </tr>\n",
       "    <tr>\n",
       "      <th>mean</th>\n",
       "      <td>0.122943</td>\n",
       "    </tr>\n",
       "    <tr>\n",
       "      <th>std</th>\n",
       "      <td>0.059504</td>\n",
       "    </tr>\n",
       "    <tr>\n",
       "      <th>min</th>\n",
       "      <td>0.038626</td>\n",
       "    </tr>\n",
       "    <tr>\n",
       "      <th>25%</th>\n",
       "      <td>0.078076</td>\n",
       "    </tr>\n",
       "    <tr>\n",
       "      <th>50%</th>\n",
       "      <td>0.105779</td>\n",
       "    </tr>\n",
       "    <tr>\n",
       "      <th>75%</th>\n",
       "      <td>0.148519</td>\n",
       "    </tr>\n",
       "    <tr>\n",
       "      <th>max</th>\n",
       "      <td>0.374543</td>\n",
       "    </tr>\n",
       "  </tbody>\n",
       "</table>\n",
       "</div>"
      ],
      "text/plain": [
       "                0\n",
       "count  300.000000\n",
       "mean     0.122943\n",
       "std      0.059504\n",
       "min      0.038626\n",
       "25%      0.078076\n",
       "50%      0.105779\n",
       "75%      0.148519\n",
       "max      0.374543"
      ]
     },
     "execution_count": 12,
     "metadata": {},
     "output_type": "execute_result"
    }
   ],
   "source": [
    "# visibility\n",
    "mrats = [mdegs[s, 2009] / mdegs[s, y] for y in [2006, 2007, 2008] for s in school_names]\n",
    "mrats = np.array(mrats)\n",
    "\n",
    "pd.DataFrame(mrats).describe()"
   ]
  },
  {
   "cell_type": "code",
   "execution_count": 39,
   "metadata": {},
   "outputs": [
    {
     "name": "stdout",
     "output_type": "stream",
     "text": [
      "0.5798418091477303 0.12294337615199145\n"
     ]
    },
    {
     "data": {
      "image/png": "[encoded data removed]",
      "text/plain": [
       "<Figure size 640x480 with 1 Axes>"
      ]
     },
     "metadata": {},
     "output_type": "display_data"
    },
    {
     "data": {
      "image/png": "[encoded data removed]",
      "text/plain": [
       "<Figure size 640x480 with 1 Axes>"
      ]
     },
     "metadata": {},
     "output_type": "display_data"
    },
    {
     "data": {
      "image/png": "[encoded data removed]",
      "text/plain": [
       "<Figure size 640x480 with 1 Axes>"
      ]
     },
     "metadata": {},
     "output_type": "display_data"
    }
   ],
   "source": [
    "cr = np.array(list(crats.values()))\n",
    "mr = np.array(list(mrats))\n",
    "\n",
    "print(cr.mean(), mr.mean())\n",
    "\n",
    "plt.hist(1/cr, bins=50, alpha=0.5, label='C ratio')\n",
    "plt.hist(1/mr, bins=50, alpha=0.5, label='M ratio')\n",
    "\n",
    "plt.show()\n",
    "\n",
    "plt.hist(cr.mean()/cr, bins=50, alpha=0.5, label='C ratio')\n",
    "plt.hist(mr.mean()/mr, bins=50, alpha=0.5, label='M ratio')\n",
    "\n",
    "plt.legend()\n",
    "plt.show()\n",
    "\n",
    "plt.hist( cr/cr.mean(), bins=50, alpha=0.5, label='C ratio')\n",
    "plt.hist( mr/mr.mean(), bins=50, alpha=0.5, label='M ratio')\n",
    "plt.legend()\n",
    "plt.show()"
   ]
  },
  {
   "cell_type": "code",
   "execution_count": 32,
   "metadata": {},
   "outputs": [
    {
     "name": "stdout",
     "output_type": "stream",
     "text": [
      "                0\n",
      "count  300.000000\n",
      "mean     2.001352\n",
      "std      1.302322\n",
      "min      0.937568\n",
      "25%      1.432563\n",
      "50%      1.700609\n",
      "75%      2.174039\n",
      "max     13.767937\n"
     ]
    }
   ],
   "source": [
    "print(pd.DataFrame(1/cr).describe())"
   ]
  },
  {
   "cell_type": "code",
   "execution_count": 33,
   "metadata": {},
   "outputs": [
    {
     "name": "stdout",
     "output_type": "stream",
     "text": [
      "                0\n",
      "count  300.000000\n",
      "mean     9.887290\n",
      "std      4.162942\n",
      "min      2.669919\n",
      "25%      6.733132\n",
      "50%      9.453704\n",
      "75%     12.808140\n",
      "max     25.889130\n"
     ]
    }
   ],
   "source": [
    "print( pd.DataFrame(1/mr).describe() )"
   ]
  },
  {
   "cell_type": "code",
   "execution_count": 35,
   "metadata": {},
   "outputs": [
    {
     "data": {
      "text/plain": [
       "(np.float64(1.3001500933816323), np.float64(4.155998087832803))"
      ]
     },
     "execution_count": 35,
     "metadata": {},
     "output_type": "execute_result"
    }
   ],
   "source": [
    "(1/cr).std(), (1/mr).std()"
   ]
  },
  {
   "cell_type": "code",
   "execution_count": 27,
   "metadata": {},
   "outputs": [
    {
     "data": {
      "text/plain": [
       "np.float64(1.0)"
      ]
     },
     "execution_count": 27,
     "metadata": {},
     "output_type": "execute_result"
    }
   ],
   "source": [
    "mr.mean()"
   ]
  },
  {
   "cell_type": "code",
   "execution_count": 24,
   "metadata": {},
   "outputs": [
    {
     "data": {
      "text/plain": [
       "(np.float64(0.24582342928765294), np.float64(0.37751927249784445))"
      ]
     },
     "execution_count": 24,
     "metadata": {},
     "output_type": "execute_result"
    }
   ],
   "source": [
    "np.abs(cr - cr.mean()).mean(), np.abs(mr - mr.mean()).mean()"
   ]
  },
  {
   "cell_type": "code",
   "execution_count": 49,
   "metadata": {},
   "outputs": [
    {
     "data": {
      "text/html": [
       "<div>\n",
       "<style scoped>\n",
       "    .dataframe tbody tr th:only-of-type {\n",
       "        vertical-align: middle;\n",
       "    }\n",
       "\n",
       "    .dataframe tbody tr th {\n",
       "        vertical-align: top;\n",
       "    }\n",
       "\n",
       "    .dataframe thead th {\n",
       "        text-align: right;\n",
       "    }\n",
       "</style>\n",
       "<table border=\"1\" class=\"dataframe\">\n",
       "  <thead>\n",
       "    <tr style=\"text-align: right;\">\n",
       "      <th></th>\n",
       "      <th>0</th>\n",
       "    </tr>\n",
       "  </thead>\n",
       "  <tbody>\n",
       "    <tr>\n",
       "      <th>count</th>\n",
       "      <td>300.000000</td>\n",
       "    </tr>\n",
       "    <tr>\n",
       "      <th>mean</th>\n",
       "      <td>0.579785</td>\n",
       "    </tr>\n",
       "    <tr>\n",
       "      <th>std</th>\n",
       "      <td>0.175104</td>\n",
       "    </tr>\n",
       "    <tr>\n",
       "      <th>min</th>\n",
       "      <td>0.071676</td>\n",
       "    </tr>\n",
       "    <tr>\n",
       "      <th>25%</th>\n",
       "      <td>0.459407</td>\n",
       "    </tr>\n",
       "    <tr>\n",
       "      <th>50%</th>\n",
       "      <td>0.587660</td>\n",
       "    </tr>\n",
       "    <tr>\n",
       "      <th>75%</th>\n",
       "      <td>0.697247</td>\n",
       "    </tr>\n",
       "    <tr>\n",
       "      <th>max</th>\n",
       "      <td>1.065970</td>\n",
       "    </tr>\n",
       "  </tbody>\n",
       "</table>\n",
       "</div>"
      ],
      "text/plain": [
       "                0\n",
       "count  300.000000\n",
       "mean     0.579785\n",
       "std      0.175104\n",
       "min      0.071676\n",
       "25%      0.459407\n",
       "50%      0.587660\n",
       "75%      0.697247\n",
       "max      1.065970"
      ]
     },
     "execution_count": 49,
     "metadata": {},
     "output_type": "execute_result"
    }
   ],
   "source": [
    "cs = np.array(list(crats.values()))\n",
    "\n",
    "# describe the distribution of cs in a table\n",
    "pd.DataFrame(cs).describe()\n"
   ]
  },
  {
   "cell_type": "code",
   "execution_count": 50,
   "metadata": {},
   "outputs": [],
   "source": [
    "# now let's bring this into the results dataframe\n",
    "\n",
    "results_df['crat'] = results_df.school.map(lambda x: np.mean([\n",
    "    crats[x,y]\n",
    "    for y in [2006, 2007, 2008]\n",
    "]))"
   ]
  },
  {
   "cell_type": "code",
   "execution_count": null,
   "metadata": {},
   "outputs": [
    {
     "data": {
      "text/html": [
       "<div>\n",
       "<style scoped>\n",
       "    .dataframe tbody tr th:only-of-type {\n",
       "        vertical-align: middle;\n",
       "    }\n",
       "\n",
       "    .dataframe tbody tr th {\n",
       "        vertical-align: top;\n",
       "    }\n",
       "\n",
       "    .dataframe thead th {\n",
       "        text-align: right;\n",
       "    }\n",
       "</style>\n",
       "<table border=\"1\" class=\"dataframe\">\n",
       "  <thead>\n",
       "    <tr style=\"text-align: right;\">\n",
       "      <th></th>\n",
       "      <th>measure</th>\n",
       "      <th>grade</th>\n",
       "      <th>value</th>\n",
       "      <th>true</th>\n",
       "      <th>type</th>\n",
       "      <th>school</th>\n",
       "      <th>crat</th>\n",
       "    </tr>\n",
       "  </thead>\n",
       "  <tbody>\n",
       "    <tr>\n",
       "      <th>0</th>\n",
       "      <td>joint-mention</td>\n",
       "      <td>1</td>\n",
       "      <td>1287.155366</td>\n",
       "      <td>1051</td>\n",
       "      <td>everyone</td>\n",
       "      <td>American75</td>\n",
       "      <td>0.856508</td>\n",
       "    </tr>\n",
       "    <tr>\n",
       "      <th>1</th>\n",
       "      <td>chao 1987</td>\n",
       "      <td>1</td>\n",
       "      <td>132.181818</td>\n",
       "      <td>1051</td>\n",
       "      <td>everyone</td>\n",
       "      <td>American75</td>\n",
       "      <td>0.856508</td>\n",
       "    </tr>\n",
       "    <tr>\n",
       "      <th>2</th>\n",
       "      <td>PIMLE</td>\n",
       "      <td>1</td>\n",
       "      <td>5897.066753</td>\n",
       "      <td>1051</td>\n",
       "      <td>everyone</td>\n",
       "      <td>American75</td>\n",
       "      <td>0.856508</td>\n",
       "    </tr>\n",
       "    <tr>\n",
       "      <th>3</th>\n",
       "      <td>MLE</td>\n",
       "      <td>1</td>\n",
       "      <td>1198.352850</td>\n",
       "      <td>1051</td>\n",
       "      <td>everyone</td>\n",
       "      <td>American75</td>\n",
       "      <td>0.856508</td>\n",
       "    </tr>\n",
       "    <tr>\n",
       "      <th>4</th>\n",
       "      <td>dombrowski</td>\n",
       "      <td>1</td>\n",
       "      <td>1111.370370</td>\n",
       "      <td>1051</td>\n",
       "      <td>everyone</td>\n",
       "      <td>American75</td>\n",
       "      <td>0.856508</td>\n",
       "    </tr>\n",
       "    <tr>\n",
       "      <th>...</th>\n",
       "      <td>...</td>\n",
       "      <td>...</td>\n",
       "      <td>...</td>\n",
       "      <td>...</td>\n",
       "      <td>...</td>\n",
       "      <td>...</td>\n",
       "      <td>...</td>\n",
       "    </tr>\n",
       "    <tr>\n",
       "      <th>176395</th>\n",
       "      <td>PIMLE</td>\n",
       "      <td>3</td>\n",
       "      <td>155.654897</td>\n",
       "      <td>1169</td>\n",
       "      <td>upperclassmen</td>\n",
       "      <td>Yale4</td>\n",
       "      <td>0.416615</td>\n",
       "    </tr>\n",
       "    <tr>\n",
       "      <th>176396</th>\n",
       "      <td>MLE</td>\n",
       "      <td>3</td>\n",
       "      <td>106.260739</td>\n",
       "      <td>1169</td>\n",
       "      <td>upperclassmen</td>\n",
       "      <td>Yale4</td>\n",
       "      <td>0.416615</td>\n",
       "    </tr>\n",
       "    <tr>\n",
       "      <th>176397</th>\n",
       "      <td>dombrowski</td>\n",
       "      <td>3</td>\n",
       "      <td>NaN</td>\n",
       "      <td>1169</td>\n",
       "      <td>upperclassmen</td>\n",
       "      <td>Yale4</td>\n",
       "      <td>0.416615</td>\n",
       "    </tr>\n",
       "    <tr>\n",
       "      <th>176398</th>\n",
       "      <td>lanumteang 2011</td>\n",
       "      <td>3</td>\n",
       "      <td>191.250000</td>\n",
       "      <td>1169</td>\n",
       "      <td>upperclassmen</td>\n",
       "      <td>Yale4</td>\n",
       "      <td>0.416615</td>\n",
       "    </tr>\n",
       "    <tr>\n",
       "      <th>176399</th>\n",
       "      <td>naive</td>\n",
       "      <td>3</td>\n",
       "      <td>0.000000</td>\n",
       "      <td>1169</td>\n",
       "      <td>upperclassmen</td>\n",
       "      <td>Yale4</td>\n",
       "      <td>0.416615</td>\n",
       "    </tr>\n",
       "  </tbody>\n",
       "</table>\n",
       "<p>176400 rows × 7 columns</p>\n",
       "</div>"
      ],
      "text/plain": [
       "                measure  grade        value  true           type      school  \\\n",
       "0         joint-mention      1  1287.155366  1051       everyone  American75   \n",
       "1             chao 1987      1   132.181818  1051       everyone  American75   \n",
       "2                 PIMLE      1  5897.066753  1051       everyone  American75   \n",
       "3                   MLE      1  1198.352850  1051       everyone  American75   \n",
       "4            dombrowski      1  1111.370370  1051       everyone  American75   \n",
       "...                 ...    ...          ...   ...            ...         ...   \n",
       "176395            PIMLE      3   155.654897  1169  upperclassmen       Yale4   \n",
       "176396              MLE      3   106.260739  1169  upperclassmen       Yale4   \n",
       "176397       dombrowski      3          NaN  1169  upperclassmen       Yale4   \n",
       "176398  lanumteang 2011      3   191.250000  1169  upperclassmen       Yale4   \n",
       "176399            naive      3     0.000000  1169  upperclassmen       Yale4   \n",
       "\n",
       "            crat  \n",
       "0       0.856508  \n",
       "1       0.856508  \n",
       "2       0.856508  \n",
       "3       0.856508  \n",
       "4       0.856508  \n",
       "...          ...  \n",
       "176395  0.416615  \n",
       "176396  0.416615  \n",
       "176397  0.416615  \n",
       "176398  0.416615  \n",
       "176399  0.416615  \n",
       "\n",
       "[176400 rows x 7 columns]"
      ]
     },
     "execution_count": 51,
     "metadata": {},
     "output_type": "execute_result"
    }
   ],
   "source": [
    "results_df"
   ]
  },
  {
   "cell_type": "code",
   "execution_count": 57,
   "metadata": {},
   "outputs": [
    {
     "data": {
      "image/png": "[encoded data removed]",
      "text/plain": [
       "<Figure size 640x480 with 1 Axes>"
      ]
     },
     "metadata": {},
     "output_type": "display_data"
    }
   ],
   "source": [
    "r = results_df\n",
    "\n",
    "r = r[(r.type == 'upperclassmen') & (r.measure == 'joint-mention')]\n",
    "diff_by_school = r.groupby('school')[['value', 'true', 'crat']].apply(lambda x: np.mean((x.value / x.true) - x.crat))\n",
    "\n",
    "plt.hist(diff_by_school, bins=10);\n"
   ]
  },
  {
   "cell_type": "code",
   "execution_count": 54,
   "metadata": {},
   "outputs": [
    {
     "data": {
      "text/plain": [
       "0.08702699998840202"
      ]
     },
     "execution_count": 54,
     "metadata": {},
     "output_type": "execute_result"
    }
   ],
   "source": [
    "np.mean((r.value / r.true) - r.crat)"
   ]
  },
  {
   "cell_type": "markdown",
   "metadata": {},
   "source": [
    "# how many joint mentions do we get?"
   ]
  },
  {
   "cell_type": "code",
   "execution_count": null,
   "metadata": {},
   "outputs": [],
   "source": [
    "from scaleup import ScaleUp, Sample\n",
    "from load_data import load_school, school_names\n",
    "A, df = load_school(school_names[0])\n",
    "\n",
    "freshmen = df[df.year == 2009].index\n",
    "upperclassmen = df[(df.year >= 2006) & (df.year <= 2008)].index\n",
    "\n",
    "groups = [\n",
    "  freshmen,\n",
    "  *[\n",
    "    df[df.year == y].index\n",
    "    for y in [2006, 2007, 2008]\n",
    "  ]\n",
    "]\n",
    "\n",
    "# remove the out-edges from freshmen\n",
    "A[freshmen, :] = 0"
   ]
  },
  {
   "cell_type": "code",
   "execution_count": 2,
   "metadata": {},
   "outputs": [],
   "source": [
    "# create the scale-up\n",
    "s = ScaleUp(A, groups, [])"
   ]
  },
  {
   "cell_type": "code",
   "execution_count": 14,
   "metadata": {},
   "outputs": [],
   "source": [
    "from collections import defaultdict\n",
    "ki = defaultdict(list)\n",
    "for _ in range(100):\n",
    "  samp = Sample(s, 250)\n",
    "  for k in range(1, 11):\n",
    "    ki[k].append(samp.count_k_mentioned(0, k, 'count'))"
   ]
  },
  {
   "cell_type": "code",
   "execution_count": 23,
   "metadata": {},
   "outputs": [
    {
     "data": {
      "image/png": "[encoded data removed]",
      "text/plain": [
       "<Figure size 640x480 with 1 Axes>"
      ]
     },
     "metadata": {},
     "output_type": "display_data"
    }
   ],
   "source": [
    "from matplotlib import pyplot as plt\n",
    "import numpy as np\n",
    "plt.hist(np.array(ki[2]) + np.array(ki[3]) + np.array(ki[4]) + np.array(ki[5]) + np.array(ki[6]) + np.array(ki[7]) + np.array(ki[8]) + np.array(ki[9]) + np.array(ki[10]), bins=30);"
   ]
  },
  {
   "cell_type": "code",
   "execution_count": 22,
   "metadata": {},
   "outputs": [
    {
     "data": {
      "image/png": "[encoded data removed]",
      "text/plain": [
       "<Figure size 640x480 with 1 Axes>"
      ]
     },
     "metadata": {},
     "output_type": "display_data"
    }
   ],
   "source": [
    "plt.hist(np.array(ki[2]), bins=30);"
   ]
  }
 ],
 "metadata": {
  "kernelspec": {
   "display_name": "data",
   "language": "python",
   "name": "python3"
  },
  "language_info": {
   "codemirror_mode": {
    "name": "ipython",
    "version": 3
   },
   "file_extension": ".py",
   "mimetype": "text/x-python",
   "name": "python",
   "nbconvert_exporter": "python",
   "pygments_lexer": "ipython3",
   "version": "3.12.7"
  }
 },
 "nbformat": 4,
 "nbformat_minor": 2
}
