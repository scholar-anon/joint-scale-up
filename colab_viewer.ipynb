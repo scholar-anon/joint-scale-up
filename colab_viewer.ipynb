{
 "cells": [
  {
   "cell_type": "markdown",
   "metadata": {},
   "source": [
    "# Network Size Estimation with Degree Bias Correction - Results Viewer\n",
    "\n",
    "This notebook provides an interactive way to explore the results of our network size estimation study. It includes pre-computed results for all schools in the Facebook100 dataset, with various estimation methods compared.\n",
    "\n",
    "## Setup\n",
    "\n",
    "First, let's clone the repository and install dependencies:\n"
   ]
  },
  {
   "cell_type": "code",
   "execution_count": null,
   "metadata": {},
   "outputs": [],
   "source": [
    "!git clone https://github.com/scholar-anon/joint-scale-up.git\n",
    "!cd joint-scale-up && pip install -r requirements.txt"
   ]
  },
  {
   "cell_type": "markdown",
   "metadata": {},
   "source": [
    "## Import Required Libraries and Load Data"
   ]
  },
  {
   "cell_type": "code",
   "execution_count": null,
   "metadata": {},
   "outputs": [],
   "source": [
    "import sys\n",
    "sys.path.append('joint-scale-up')\n",
    "from common import *\n",
    "from load_data import load_all_results\n",
    "from figures import boxplot, density_plot\n",
    "import pandas as pd"
   ]
  },
  {
   "cell_type": "code",
   "execution_count": null,
   "metadata": {},
   "outputs": [],
   "source": [
    "results = load_all_results()"
   ]
  },
  {
   "cell_type": "markdown",
   "metadata": {},
   "source": [
    "## Interactive Results Viewer"
   ]
  },
  {
   "cell_type": "code",
   "execution_count": null,
   "metadata": {},
   "outputs": [],
   "source": [
    "from ipywidgets import interact, widgets\n",
    "\n",
    "school_names = sorted(list(results.keys()))\n",
    "interact(boxplot, school_name=school_names)"
   ]
  }
 ],
 "metadata": {
  "language_info": {
   "name": "python"
  }
 },
 "nbformat": 4,
 "nbformat_minor": 2
}
